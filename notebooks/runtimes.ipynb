{
 "cells": [
  {
   "cell_type": "code",
   "execution_count": 21,
   "id": "d492f391-3fc0-4ff1-b902-db5998d28349",
   "metadata": {},
   "outputs": [],
   "source": [
    "import os\n",
    "import time\n",
    "import glob\n",
    "import subprocess\n",
    "\n",
    "def get_file_times(file_path):\n",
    "    try:\n",
    "        # Use subprocess to call the `stat` command\n",
    "        result = subprocess.run(['stat', file_path], capture_output=True, text=True, check=True)\n",
    "        output = result.stdout\n",
    "        \n",
    "        # Parse the last modified time and birth time\n",
    "        mod_time_str = None\n",
    "        birth_time_str = None\n",
    "        \n",
    "        for line in output.splitlines():\n",
    "            if \"Modify:\" in line:\n",
    "                mod_time_str = line.split(\"Modify:\")[1].strip()\n",
    "            if \"Birth:\" in line:\n",
    "                birth_time_str = line.split(\"Birth:\")[1].strip()\n",
    "\n",
    "        # Handle microseconds part of the timestamps\n",
    "        if mod_time_str:\n",
    "            mod_time_str = mod_time_str.split('.')[0] + mod_time_str[19:26]\n",
    "            mod_time = time.mktime(time.strptime(mod_time_str, \"%Y-%m-%d %H:%M:%S.%f\"))\n",
    "        else:\n",
    "            mod_time = os.path.getmtime(file_path)\n",
    "        \n",
    "        if birth_time_str:\n",
    "            birth_time_str = birth_time_str.split('.')[0] + birth_time_str[19:26]\n",
    "            birth_time = time.mktime(time.strptime(birth_time_str, \"%Y-%m-%d %H:%M:%S.%f\"))\n",
    "        else:\n",
    "            birth_time = None\n",
    "        \n",
    "        return mod_time, birth_time\n",
    "    \n",
    "    except Exception as e:\n",
    "        print(f\"Error getting times for {file_path}: {e}\")\n",
    "        return None, None"
   ]
  },
  {
   "cell_type": "code",
   "execution_count": 75,
   "id": "0d72b2c6-ee10-42b4-9bda-bf03b5c0781d",
   "metadata": {},
   "outputs": [
    {
     "name": "stdout",
     "output_type": "stream",
     "text": [
      "[ 57.32875     77.39166667 132.21458333] minutes per run\n",
      "1466.0130555555556 hours total\n"
     ]
    },
    {
     "data": {
      "image/png": "[encoded data removed]",
      "text/plain": [
       "<Figure size 640x480 with 1 Axes>"
      ]
     },
     "metadata": {},
     "output_type": "display_data"
    }
   ],
   "source": [
    "import matplotlib.pyplot as plt\n",
    "import numpy as np\n",
    "\n",
    "pattern = \"../logs/fig1-full-mnist-bond/nodes-64-*\"\n",
    "diffs = []\n",
    "for file_path in glob.glob(pattern):\n",
    "    if os.path.isfile(file_path):\n",
    "        mod_time, birth_time = get_file_times(file_path)\n",
    "        mod_time_str = time.strftime('%Y-%m-%d %H:%M:%S', time.localtime(mod_time))\n",
    "        \n",
    "        if birth_time is not None:\n",
    "            birth_time_str = time.strftime('%Y-%m-%d %H:%M:%S', time.localtime(birth_time))\n",
    "            time_diff = mod_time - birth_time\n",
    "            diffs.append(time_diff)\n",
    "        else:\n",
    "            print(\"Creation time is not available.\")\n",
    "plt.hist(diffs, bins=20)\n",
    "plt.axvline(np.median(diffs), ls='--', color=\"tab:grey\")\n",
    "print(np.percentile(diffs, [2.5, 50, 97.5])/60, \"minutes per run\")\n",
    "print(np.sum(diffs)/3600, \"hours total\")"
   ]
  },
  {
   "cell_type": "code",
   "execution_count": null,
   "id": "84219604-09ab-41e3-8cd6-569a0dd5c8ad",
   "metadata": {},
   "outputs": [],
   "source": []
  },
  {
   "cell_type": "code",
   "execution_count": null,
   "id": "82baf988-018a-420a-895c-124df78e4bd0",
   "metadata": {},
   "outputs": [],
   "source": []
  },
  {
   "cell_type": "code",
   "execution_count": null,
   "id": "dbf17dfa-4a08-44fe-8dd3-810dd0aa3202",
   "metadata": {},
   "outputs": [],
   "source": []
  },
  {
   "cell_type": "code",
   "execution_count": null,
   "id": "86f86e43-9af1-4841-9b7e-dfc2401f6f88",
   "metadata": {},
   "outputs": [],
   "source": []
  },
  {
   "cell_type": "code",
   "execution_count": null,
   "id": "76f6def1-5445-474c-8aab-bd84b7e48321",
   "metadata": {},
   "outputs": [],
   "source": []
  },
  {
   "cell_type": "code",
   "execution_count": null,
   "id": "574a8ab1-600e-4b86-8734-34d971f5cf39",
   "metadata": {},
   "outputs": [],
   "source": []
  }
 ],
 "metadata": {
  "kernelspec": {
   "display_name": "Python 3 (ipykernel)",
   "language": "python",
   "name": "python3"
  },
  "language_info": {
   "codemirror_mode": {
    "name": "ipython",
    "version": 3
   },
   "file_extension": ".py",
   "mimetype": "text/x-python",
   "name": "python",
   "nbconvert_exporter": "python",
   "pygments_lexer": "ipython3",
   "version": "3.10.10"
  }
 },
 "nbformat": 4,
 "nbformat_minor": 5
}
